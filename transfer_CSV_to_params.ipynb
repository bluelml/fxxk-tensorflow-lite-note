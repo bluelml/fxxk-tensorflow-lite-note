{
 "cells": [
  {
   "cell_type": "code",
   "execution_count": 27,
   "metadata": {},
   "outputs": [],
   "source": [
    "import csv\n",
    "with open('mynet.param','w') as p: \n",
    "    with open('mynet.csv','r') as f:\n",
    "        f_csv = csv.reader(f)\n",
    "        \n",
    "        blobs = []\n",
    "        outputcontent = ''\n",
    "        row_index = 0\n",
    "        for row in f_csv:   ## read rows in csv\n",
    "            # normal lines <layertype   layername   inputNum outputNum inputBlob outputBlob params>\n",
    "            col_index = 0\n",
    "            for col in row:\n",
    "                if col_index == 0:                # layertype\n",
    "                    outputcontent += '%-16s ' % (col)\n",
    "                elif col_index == 1:              # layername\n",
    "                    outputcontent += '%-16s ' % (col)\n",
    "                elif col_index == 2:              # inputNum\n",
    "                    inputBlobNum = int(col)\n",
    "                    outputcontent += ' %s' % (col)\n",
    "                elif col_index == 3:              # outputNum\n",
    "                    outputBlobNum = int(col)\n",
    "                    outputcontent += ' %s' % (col)\n",
    "                elif col_index > 3 and col_index <= 3+inputBlobNum+outputBlobNum:  # inputBlob outputBlob\n",
    "                    blobs.append(col)\n",
    "                    outputcontent += ' %s' % (col)\n",
    "                else:                             # params\n",
    "                    outputcontent += ' %s' % (col)\n",
    "                col_index += 1\n",
    "            outputcontent += '\\n'\n",
    "            row_index += 1  ## end of read rows in csv\n",
    "        outputcontent = '7767517\\n'+'%s '%(row_index)+'%s\\n'%(len(list(set(blobs))))+outputcontent\n",
    "        p.write(outputcontent)"
   ]
  },
  {
   "cell_type": "code",
   "execution_count": null,
   "metadata": {},
   "outputs": [],
   "source": []
  }
 ],
 "metadata": {
  "kernelspec": {
   "display_name": "Python 3",
   "language": "python",
   "name": "python3"
  },
  "language_info": {
   "codemirror_mode": {
    "name": "ipython",
    "version": 3
   },
   "file_extension": ".py",
   "mimetype": "text/x-python",
   "name": "python",
   "nbconvert_exporter": "python",
   "pygments_lexer": "ipython3",
   "version": "3.6.10"
  }
 },
 "nbformat": 4,
 "nbformat_minor": 4
}
