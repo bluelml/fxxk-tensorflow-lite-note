{
 "cells": [
  {
   "cell_type": "code",
   "execution_count": 1,
   "metadata": {},
   "outputs": [
    {
     "name": "stdout",
     "output_type": "stream",
     "text": [
      "little\n"
     ]
    }
   ],
   "source": [
    "# !conda info -e\n",
    "import sys\n",
    "print(sys.byteorder)\n",
    "\n",
    "import struct"
   ]
  },
  {
   "cell_type": "code",
   "execution_count": 17,
   "metadata": {},
   "outputs": [
    {
     "name": "stdout",
     "output_type": "stream",
     "text": [
      "1235522\n"
     ]
    }
   ],
   "source": [
    "index = 0\n",
    "with open('mynet.bin','rb') as f:\n",
    "    while True:\n",
    "        b = f.read(4)\n",
    "        if b:\n",
    "            index += 1\n",
    "#             print([i for i in struct.unpack('<f', b)])\n",
    "        else:\n",
    "            break\n",
    "\n",
    "print(index)"
   ]
  },
  {
   "cell_type": "code",
   "execution_count": 13,
   "metadata": {},
   "outputs": [
    {
     "name": "stdout",
     "output_type": "stream",
     "text": [
      "b'\\x00\\x00\\x80?'\n"
     ]
    }
   ],
   "source": [
    "a = [1]\n",
    "\n",
    "with open('mynet.bin','wb') as f:\n",
    "    \n",
    "    i = 0x00000000\n",
    "    f.write(struct.pack('<I',i))\n",
    "    \n",
    "    for i in a:\n",
    "        print(struct.pack('<f',i))\n",
    "        f.write(struct.pack('<f',i))"
   ]
  },
  {
   "cell_type": "code",
   "execution_count": 8,
   "metadata": {},
   "outputs": [
    {
     "data": {
      "text/plain": [
       "1065353216"
      ]
     },
     "execution_count": 8,
     "metadata": {},
     "output_type": "execute_result"
    }
   ],
   "source": [
    "0x3f800000"
   ]
  }
 ],
 "metadata": {
  "kernelspec": {
   "display_name": "Python 3",
   "language": "python",
   "name": "python3"
  },
  "language_info": {
   "codemirror_mode": {
    "name": "ipython",
    "version": 3
   },
   "file_extension": ".py",
   "mimetype": "text/x-python",
   "name": "python",
   "nbconvert_exporter": "python",
   "pygments_lexer": "ipython3",
   "version": "3.6.10"
  }
 },
 "nbformat": 4,
 "nbformat_minor": 4
}
