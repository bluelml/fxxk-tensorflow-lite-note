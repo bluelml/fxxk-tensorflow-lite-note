{
 "cells": [
  {
   "cell_type": "code",
   "execution_count": 1,
   "metadata": {},
   "outputs": [],
   "source": [
    "import csv\n",
    "import json\n",
    "import struct\n",
    "from functools import reduce\n",
    "import numpy as np\n",
    "import os\n",
    "\n",
    "filename = 'im1_14_myatt'"
   ]
  },
  {
   "cell_type": "markdown",
   "metadata": {},
   "source": [
    "## 拷贝tflite文件到flatbuffers中 并用flatc解码为json"
   ]
  },
  {
   "cell_type": "code",
   "execution_count": null,
   "metadata": {},
   "outputs": [
    {
     "name": "stdout",
     "output_type": "stream",
     "text": [
      "copy file success\n"
     ]
    }
   ],
   "source": [
    "orifile = '/home/gx/myproj/generative_inpainting-master/{}.tflite'.format(filename)\n",
    "disfile = '/home/gx/myproj/flatbuffers/{}.tflite'.format(filename)\n",
    "os.system('cp {} {}'.format(orifile, disfile))\n",
    "if os.path.isfile(disfile): \n",
    "    print('copy file success')\n",
    "os.system('./flatc -t schema.fbs -- {}.tflite --strict-json'.format(filename))"
   ]
  },
  {
   "cell_type": "markdown",
   "metadata": {},
   "source": [
    "## 解析json结构"
   ]
  },
  {
   "cell_type": "code",
   "execution_count": null,
   "metadata": {},
   "outputs": [],
   "source": [
    "jsonpath = \"/home/gx/myproj/flatbuffers/{}.json\".format(filename)\n",
    "with open(jsonpath,'r') as f_json:\n",
    "    model = json.load(f_json)\n",
    "\n",
    "op = model['subgraphs'][0]['operators']\n",
    "tensor = model['subgraphs'][0]['tensors']\n",
    "opsort = model['operator_codes']\n",
    "buffers = model['buffers']"
   ]
  },
  {
   "cell_type": "markdown",
   "metadata": {},
   "source": [
    "## 修改reorderaxes为transpose"
   ]
  },
  {
   "cell_type": "markdown",
   "metadata": {},
   "source": [
    "1. 178 transpose 赋值给185 reorderaxes\n",
    "2. 给185增加一个tensor（index485）作为转置参数 内容复制index421的tensor 修改名称和buffer\n",
    "3. 给index=485的新tensor增加一个buffer(index486)  data为：3000 0000 1000 2000"
   ]
  },
  {
   "cell_type": "code",
   "execution_count": null,
   "metadata": {},
   "outputs": [],
   "source": [
    "buffers.append({'data': [3, 0, 0, 0, 0, 0, 0, 0, 1, 0, 0, 0, 2, 0, 0, 0]})  #  index486\n",
    "\n",
    "tensor.append({'shape': [4],                                               #  index485\n",
    "               'type': 'INT32',\n",
    "               'buffer': 486,\n",
    "               'name': 'inpaint_net/transpose_r/perm',\n",
    "               'quantization': {}})\n",
    "\n",
    "op[185] = {'opcode_index': 12,\n",
    "           'inputs': [228,485],\n",
    "           'outputs': [229],\n",
    "           'builtin_options_type': 'TransposeOptions',\n",
    "           'builtin_options': {},\n",
    "           'mutating_variable_inputs': []}"
   ]
  },
  {
   "cell_type": "markdown",
   "metadata": {},
   "source": [
    "## 保存csv网络结构文件"
   ]
  },
  {
   "cell_type": "code",
   "execution_count": null,
   "metadata": {},
   "outputs": [],
   "source": [
    "def append_row_to_csv(appendList):\n",
    "    with open(filename +'.csv','a', newline = \"\") as f:\n",
    "        csv_writer = csv.writer(f, dialect = \"excel\")\n",
    "        csv_writer.writerow(appendList)"
   ]
  },
  {
   "cell_type": "code",
   "execution_count": null,
   "metadata": {},
   "outputs": [],
   "source": [
    "try:\n",
    "    os.remove(filename+'.csv')\n",
    "except:\n",
    "    pass\n",
    "\n",
    "opsort = model['operator_codes']\n",
    "op = model['subgraphs'][0]['operators']\n",
    "print('op number: '+str(len(op)))\n",
    "tensor = model['subgraphs'][0]['tensors']\n",
    "print('tensor number: '+str(len(tensor)))\n",
    "buffers = model['buffers']\n",
    "print('buffers number: '+str(len(buffers)))\n",
    "\n",
    "index = 0\n",
    "for i in op: # i op字典结构\n",
    "    index +=1\n",
    "    temp = []\n",
    "    try:\n",
    "        opsortindex = i['opcode_index']\n",
    "        this_op_sort = opsort[opsortindex]['builtin_code']\n",
    "    except:\n",
    "        this_op_sort = str(index-1)\n",
    "    if this_op_sort == 'CUSTOM':\n",
    "        this_op_sort = opsort[i['opcode_index']]['custom_code']\n",
    "    temp.append(this_op_sort)                                      # node算子种类\n",
    "\n",
    "    temp.append(len(i['inputs']))                                  # 输入tensor数量\n",
    "    \n",
    "    try:\n",
    "        outnumber = len(i['outputs'])\n",
    "        temp.append(outnumber)                                     # 输出tensor数量\n",
    "    except:\n",
    "        pass\n",
    "        temp.append('x') \n",
    "        \n",
    "    for j in i['inputs']:  \n",
    "        temp.append(j)                                             # 输入tensor编号\n",
    "        temp.append(tensor[j]['buffer'])                           # 输入tensor所属buffer编号\n",
    "        if buffers[tensor[j]['buffer']]:\n",
    "            temp.append('F')\n",
    "        else:\n",
    "            temp.append('')\n",
    "        input_tensor_name = tensor[j]['name']\n",
    "        temp.append(input_tensor_name)                             # 输入tensor名称\n",
    "        \n",
    "    for j in i['outputs']:      \n",
    "        temp.append(j)                                             # 输出tensor编号\n",
    "        temp.append(tensor[j]['buffer'])                           # 输出tensor所属buffer编号\n",
    "        if buffers[tensor[j]['buffer']]:\n",
    "            temp.append('F')\n",
    "        else:\n",
    "            temp.append('')\n",
    "        output_tensor_name = tensor[j]['name']\n",
    "        temp.append(output_tensor_name)                            # 输出tensor名称\n",
    "            \n",
    "    append_row_to_csv(temp)"
   ]
  },
  {
   "cell_type": "markdown",
   "metadata": {},
   "source": [
    "## 保存json文件并用flatc编码为tflite文件"
   ]
  },
  {
   "cell_type": "code",
   "execution_count": null,
   "metadata": {},
   "outputs": [],
   "source": [
    "with open(jsonpath,\"w\") as f:\n",
    "    json.dump(model,f,indent=4)\n",
    "\n",
    "os.system('./flatc -b schema.fbs {}.json'.format(filename))"
   ]
  }
 ],
 "metadata": {
  "kernelspec": {
   "display_name": "Python 3",
   "language": "python",
   "name": "python3"
  },
  "language_info": {
   "codemirror_mode": {
    "name": "ipython",
    "version": 3
   },
   "file_extension": ".py",
   "mimetype": "text/x-python",
   "name": "python",
   "nbconvert_exporter": "python",
   "pygments_lexer": "ipython3",
   "version": "3.6.10"
  }
 },
 "nbformat": 4,
 "nbformat_minor": 4
}
