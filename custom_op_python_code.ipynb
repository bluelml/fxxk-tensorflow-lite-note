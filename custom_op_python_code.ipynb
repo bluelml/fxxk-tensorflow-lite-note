{
 "cells": [
  {
   "cell_type": "markdown",
   "metadata": {},
   "source": [
    "# make sure the custom op work well"
   ]
  },
  {
   "cell_type": "code",
   "execution_count": 1,
   "metadata": {
    "collapsed": true
   },
   "outputs": [
    {
     "name": "stdout",
     "output_type": "stream",
     "text": [
      "# conda environments:\n",
      "#\n",
      "base                     /home/gx/anaconda3\n",
      "tf1.14                *  /home/gx/anaconda3/envs/tf1.14\n",
      "tf2.0                    /home/gx/anaconda3/envs/tf2.0\n",
      "\n",
      "1.14.1\n"
     ]
    },
    {
     "name": "stderr",
     "output_type": "stream",
     "text": [
      "/home/gx/anaconda3/envs/tf1.14/lib/python3.6/site-packages/tensorboard/compat/tensorflow_stub/dtypes.py:541: FutureWarning: Passing (type, 1) or '1type' as a synonym of type is deprecated; in a future version of numpy, it will be understood as (type, (1,)) / '(1,)type'.\n",
      "  _np_qint8 = np.dtype([(\"qint8\", np.int8, 1)])\n",
      "/home/gx/anaconda3/envs/tf1.14/lib/python3.6/site-packages/tensorboard/compat/tensorflow_stub/dtypes.py:542: FutureWarning: Passing (type, 1) or '1type' as a synonym of type is deprecated; in a future version of numpy, it will be understood as (type, (1,)) / '(1,)type'.\n",
      "  _np_quint8 = np.dtype([(\"quint8\", np.uint8, 1)])\n",
      "/home/gx/anaconda3/envs/tf1.14/lib/python3.6/site-packages/tensorboard/compat/tensorflow_stub/dtypes.py:543: FutureWarning: Passing (type, 1) or '1type' as a synonym of type is deprecated; in a future version of numpy, it will be understood as (type, (1,)) / '(1,)type'.\n",
      "  _np_qint16 = np.dtype([(\"qint16\", np.int16, 1)])\n",
      "/home/gx/anaconda3/envs/tf1.14/lib/python3.6/site-packages/tensorboard/compat/tensorflow_stub/dtypes.py:544: FutureWarning: Passing (type, 1) or '1type' as a synonym of type is deprecated; in a future version of numpy, it will be understood as (type, (1,)) / '(1,)type'.\n",
      "  _np_quint16 = np.dtype([(\"quint16\", np.uint16, 1)])\n",
      "/home/gx/anaconda3/envs/tf1.14/lib/python3.6/site-packages/tensorboard/compat/tensorflow_stub/dtypes.py:545: FutureWarning: Passing (type, 1) or '1type' as a synonym of type is deprecated; in a future version of numpy, it will be understood as (type, (1,)) / '(1,)type'.\n",
      "  _np_qint32 = np.dtype([(\"qint32\", np.int32, 1)])\n",
      "/home/gx/anaconda3/envs/tf1.14/lib/python3.6/site-packages/tensorboard/compat/tensorflow_stub/dtypes.py:550: FutureWarning: Passing (type, 1) or '1type' as a synonym of type is deprecated; in a future version of numpy, it will be understood as (type, (1,)) / '(1,)type'.\n",
      "  np_resource = np.dtype([(\"resource\", np.ubyte, 1)])\n"
     ]
    }
   ],
   "source": [
    "!conda info -e\n",
    "import tensorflow as tf\n",
    "import numpy as np\n",
    "# import tensorflow.compat.v1 as tf\n",
    "# tf.disable_v2_behavior()\n",
    "print(tf.__version__)"
   ]
  },
  {
   "cell_type": "code",
   "execution_count": 48,
   "metadata": {
    "collapsed": true
   },
   "outputs": [
    {
     "name": "stdout",
     "output_type": "stream",
     "text": [
      "[[[[1, 1, 1], [2, 2, 2], [3, 3, 3], [4, 4, 4], [5, 5, 5], [6, 6, 6], [7, 7, 7], [8, 8, 8], [9, 9, 9], [10, 10, 10]], [[11, 11, 11], [12, 12, 12], [13, 13, 13], [14, 14, 14], [15, 15, 15], [16, 16, 16], [17, 17, 17], [18, 18, 18], [19, 19, 19], [20, 20, 20]], [[21, 21, 21], [22, 22, 22], [23, 23, 23], [24, 24, 24], [25, 25, 25], [26, 26, 26], [27, 27, 27], [28, 28, 28], [29, 29, 29], [30, 30, 30]], [[31, 31, 31], [32, 32, 32], [33, 33, 33], [34, 34, 34], [35, 35, 35], [36, 36, 36], [37, 37, 37], [38, 38, 38], [39, 39, 39], [40, 40, 40]], [[41, 41, 41], [42, 42, 42], [43, 43, 43], [44, 44, 44], [45, 45, 45], [46, 46, 46], [47, 47, 47], [48, 48, 48], [49, 49, 49], [50, 50, 50]], [[51, 51, 51], [52, 52, 52], [53, 53, 53], [54, 54, 54], [55, 55, 55], [56, 56, 56], [57, 57, 57], [58, 58, 58], [59, 59, 59], [60, 60, 60]], [[61, 61, 61], [62, 62, 62], [63, 63, 63], [64, 64, 64], [65, 65, 65], [66, 66, 66], [67, 67, 67], [68, 68, 68], [69, 69, 69], [70, 70, 70]], [[71, 71, 71], [72, 72, 72], [73, 73, 73], [74, 74, 74], [75, 75, 75], [76, 76, 76], [77, 77, 77], [78, 78, 78], [79, 79, 79], [80, 80, 80]], [[81, 81, 81], [82, 82, 82], [83, 83, 83], [84, 84, 84], [85, 85, 85], [86, 86, 86], [87, 87, 87], [88, 88, 88], [89, 89, 89], [90, 90, 90]], [[91, 91, 91], [92, 92, 92], [93, 93, 93], [94, 94, 94], [95, 95, 95], [96, 96, 96], [97, 97, 97], [98, 98, 98], [99, 99, 99], [100, 100, 100]]]]\n"
     ]
    }
   ],
   "source": [
    "n = 10\n",
    "images = [[[[x * n + y + 1, x * n + y + 1, x * n + y + 1] for y in range(n)] for x in range(n)]]\n",
    "print(images)\n",
    "images = np.array(images,  dtype=np.int32)"
   ]
  },
  {
   "cell_type": "code",
   "execution_count": 49,
   "metadata": {},
   "outputs": [
    {
     "data": {
      "text/plain": [
       "(1, 10, 10, 3)"
      ]
     },
     "execution_count": 49,
     "metadata": {},
     "output_type": "execute_result"
    }
   ],
   "source": [
    "images.shape"
   ]
  },
  {
   "cell_type": "code",
   "execution_count": 78,
   "metadata": {},
   "outputs": [],
   "source": [
    "def EIP(images,sizes,strides,rates,padding):\n",
    "    farr = images.flatten()\n",
    "    padding_row_num = (int) ((images.shape[1] + strides[1] - 1) / strides[1])\n",
    "    padding_col_num = (int) ((images.shape[2] + strides[2] - 1) / strides[2])\n",
    "    padding_cha_num = sizes[1]*sizes[2]*images.shape[3]\n",
    "\n",
    "    res = []\n",
    "    \n",
    "    for i in range(padding_row_num):\n",
    "        for j in range(padding_col_num):\n",
    "            padding_anchor = j*strides[2] + i*strides[1]*images.shape[2]\n",
    "            \n",
    "            # pros one pad\n",
    "            for m in range(sizes[1]):\n",
    "                for n in range(sizes[2]): \n",
    "                    # pointer in this pad\n",
    "                    pros_pointer = padding_anchor + n*rates[2] + m*rates[1]*images.shape[2]\n",
    "                    pros_pointer *= images.shape[3]\n",
    "\n",
    "                    isOutRow = (int)(padding_anchor / images.shape[2]) + m > images.shape[1]-1\n",
    "                    isOutCol = padding_anchor % images.shape[2] + n > images.shape[2]-1\n",
    "\n",
    "                    if isOutRow or isOutCol:\n",
    "                        for ic in range(images.shape[3]):\n",
    "                            res.append(0)\n",
    "                        continue\n",
    "                    # regular condition\n",
    "                    for ic in range(images.shape[3]):\n",
    "                        res.append(farr[pros_pointer+ic])\n",
    "    return np.array(res).reshape(1,padding_row_num,padding_col_num,padding_cha_num)"
   ]
  },
  {
   "cell_type": "code",
   "execution_count": 79,
   "metadata": {
    "collapsed": true
   },
   "outputs": [
    {
     "name": "stdout",
     "output_type": "stream",
     "text": [
      "[[  1   2   3   4   5   6   7   8   9  10]\n",
      " [ 11  12  13  14  15  16  17  18  19  20]\n",
      " [ 21  22  23  24  25  26  27  28  29  30]\n",
      " [ 31  32  33  34  35  36  37  38  39  40]\n",
      " [ 41  42  43  44  45  46  47  48  49  50]\n",
      " [ 51  52  53  54  55  56  57  58  59  60]\n",
      " [ 61  62  63  64  65  66  67  68  69  70]\n",
      " [ 71  72  73  74  75  76  77  78  79  80]\n",
      " [ 81  82  83  84  85  86  87  88  89  90]\n",
      " [ 91  92  93  94  95  96  97  98  99 100]]\n",
      "00 False\n",
      "False\n",
      "7.7\n",
      "01 False\n",
      "False\n",
      "7.7\n",
      "02 False\n",
      "False\n",
      "7.7\n",
      "03 False\n",
      "True\n",
      "7.7\n",
      "10 False\n",
      "False\n",
      "8.7\n",
      "11 False\n",
      "False\n",
      "8.7\n",
      "12 False\n",
      "False\n",
      "8.7\n",
      "13 False\n",
      "True\n",
      "8.7\n",
      "20 False\n",
      "False\n",
      "9.7\n",
      "21 False\n",
      "False\n",
      "9.7\n",
      "22 False\n",
      "False\n",
      "9.7\n",
      "23 False\n",
      "True\n",
      "9.7\n",
      "30 True\n",
      "False\n",
      "10.7\n",
      "31 True\n",
      "False\n",
      "10.7\n",
      "32 True\n",
      "False\n",
      "10.7\n",
      "33 True\n",
      "True\n",
      "10.7\n",
      "[[[[  1   1   1   2   2   2   3   3   3   4   4   4  11  11  11  12  12\n",
      "     12  13  13  13  14  14  14  21  21  21  22  22  22  23  23  23  24\n",
      "     24  24  31  31  31  32  32  32  33  33  33  34  34  34]\n",
      "   [  8   8   8   9   9   9  10  10  10   0   0   0  18  18  18  19  19\n",
      "     19  20  20  20   0   0   0  28  28  28  29  29  29  30  30  30   0\n",
      "      0   0  38  38  38  39  39  39  40  40  40   0   0   0]]\n",
      "\n",
      "  [[ 71  71  71  72  72  72  73  73  73  74  74  74  81  81  81  82  82\n",
      "     82  83  83  83  84  84  84  91  91  91  92  92  92  93  93  93  94\n",
      "     94  94   0   0   0   0   0   0   0   0   0   0   0   0]\n",
      "   [ 78  78  78  79  79  79  80  80  80   0   0   0  88  88  88  89  89\n",
      "     89  90  90  90   0   0   0  98  98  98  99  99  99 100 100 100   0\n",
      "      0   0   0   0   0   0   0   0   0   0   0   0   0   0]]]]\n",
      "(1, 2, 2, 48)\n"
     ]
    }
   ],
   "source": [
    "print(images[0,:,:,0])\n",
    "temp = EIP(images, sizes=[1, 4, 4, 1], strides=[1, 7, 7, 1], rates=[1, 1, 1, 1], padding='SAME')\n",
    "print(temp)\n",
    "print(temp.shape)"
   ]
  },
  {
   "cell_type": "code",
   "execution_count": 5,
   "metadata": {
    "collapsed": true
   },
   "outputs": [
    {
     "name": "stdout",
     "output_type": "stream",
     "text": [
      "[[[[  1   1   1   2   2   2   3   3   3   4   4   4  11  11  11  12  12\n",
      "     12  13  13  13  14  14  14  21  21  21  22  22  22  23  23  23  24\n",
      "     24  24  31  31  31  32  32  32  33  33  33  34  34  34]\n",
      "   [  8   8   8   9   9   9  10  10  10   0   0   0  18  18  18  19  19\n",
      "     19  20  20  20   0   0   0  28  28  28  29  29  29  30  30  30   0\n",
      "      0   0  38  38  38  39  39  39  40  40  40   0   0   0]]\n",
      "\n",
      "  [[ 71  71  71  72  72  72  73  73  73  74  74  74  81  81  81  82  82\n",
      "     82  83  83  83  84  84  84  91  91  91  92  92  92  93  93  93  94\n",
      "     94  94   0   0   0   0   0   0   0   0   0   0   0   0]\n",
      "   [ 78  78  78  79  79  79  80  80  80   0   0   0  88  88  88  89  89\n",
      "     89  90  90  90   0   0   0  98  98  98  99  99  99 100 100 100   0\n",
      "      0   0   0   0   0   0   0   0   0   0   0   0   0   0]]]]\n",
      "(1, 2, 2, 48)\n"
     ]
    }
   ],
   "source": [
    "with tf.Session() as sess:\n",
    "    res = tf.extract_image_patches(images=images, sizes=[1, 4, 4, 1], strides=[1, 7, 7, 1], rates=[1, 1, 1, 1], padding='SAME').eval()\n",
    "    print(res)\n",
    "    print(res.shape)"
   ]
  },
  {
   "cell_type": "code",
   "execution_count": 94,
   "metadata": {},
   "outputs": [
    {
     "name": "stdout",
     "output_type": "stream",
     "text": [
      "[[[   0    1    2 ...   82   83   84]\n",
      "  [  85   86   87 ...  167  168  169]\n",
      "  [ 170  171  172 ...  252  253  254]\n",
      "  ...\n",
      "  [5185 5186 5187 ... 5267 5268 5269]\n",
      "  [5270 5271 5272 ... 5352 5353 5354]\n",
      "  [5355 5356 5357 ... 5437 5438 5439]]]\n",
      "(1, 64, 85, 1)\n"
     ]
    }
   ],
   "source": [
    "image = [j+i*85 for i in range(64) for j in range(85)]\n",
    "image = np.array(image).reshape(1,64,85,1)\n",
    "print(image[:,:,:,0])\n",
    "print(image.shape)"
   ]
  },
  {
   "cell_type": "code",
   "execution_count": 89,
   "metadata": {},
   "outputs": [
    {
     "name": "stdout",
     "output_type": "stream",
     "text": [
      "[[[[   0    0    0 ... 5351 5352 5353]]\n",
      "\n",
      "  [[   0    0    0 ... 5352 5353 5354]]\n",
      "\n",
      "  [[   0    0    0 ... 5353 5354    0]]]\n",
      "\n",
      "\n",
      " [[[   0    0    1 ... 5436 5437 5438]]\n",
      "\n",
      "  [[   0    1    2 ... 5437 5438 5439]]\n",
      "\n",
      "  [[   1    2    3 ... 5438 5439    0]]]\n",
      "\n",
      "\n",
      " [[[   0   85   86 ...    0    0    0]]\n",
      "\n",
      "  [[  85   86   87 ...    0    0    0]]\n",
      "\n",
      "  [[  86   87   88 ...    0    0    0]]]]\n",
      "(3, 3, 1, 5440)\n"
     ]
    }
   ],
   "source": [
    "with tf.Session() as sess:\n",
    "    res = tf.extract_image_patches(image, sizes=[1, 3, 3, 1], strides=[1, 1, 1, 1], rates=[1, 1, 1, 1], padding='SAME')\n",
    "    res = tf.reshape(res, [ -1, 3, 3, 1])\n",
    "    res = tf.transpose(res, [1, 2, 3, 0])\n",
    "    res = sess.run(res)\n",
    "    print(res)\n",
    "    print(res.shape)"
   ]
  },
  {
   "cell_type": "code",
   "execution_count": 3,
   "metadata": {},
   "outputs": [
    {
     "name": "stdout",
     "output_type": "stream",
     "text": [
      "[{'name': 'input_image_holder', 'index': 1, 'shape': array([ 1, 10, 10,  3], dtype=int32), 'dtype': <class 'numpy.int32'>, 'quantization': (0.0, 0)}]\n",
      "[{'name': 'ExtractImagePatches_7', 'index': 0, 'shape': array([ 1,  2,  2, 48], dtype=int32), 'dtype': <class 'numpy.int32'>, 'quantization': (0.0, 0)}]\n"
     ]
    }
   ],
   "source": [
    "interpreter = tf.lite.Interpreter(model_path='/home/gx/myproj/generative_inpainting-master/_1q.tflite')\n",
    "interpreter.allocate_tensors()\n",
    "input_details = interpreter.get_input_details()\n",
    "print(str(input_details))\n",
    "output_details = interpreter.get_output_details()\n",
    "print(str(output_details))\n"
   ]
  },
  {
   "cell_type": "code",
   "execution_count": 4,
   "metadata": {},
   "outputs": [
    {
     "name": "stdout",
     "output_type": "stream",
     "text": [
      "input_shape:\n",
      "[ 1 10 10  3]\n"
     ]
    }
   ],
   "source": [
    "input_shape = input_details[0]['shape']\n",
    "print(\"input_shape:\")\n",
    "print(input_shape)\n",
    "# input_data = np.array(10*np.random.random_sample(input_shape), dtype=np.int32)\n",
    "\n",
    "input_data = images\n",
    "# print(input_data)"
   ]
  },
  {
   "cell_type": "code",
   "execution_count": 5,
   "metadata": {
    "collapsed": true
   },
   "outputs": [
    {
     "name": "stdout",
     "output_type": "stream",
     "text": [
      "[[[[  1   1   1   2   2   2   3   3   3   4   4   4  11  11  11  12  12\n",
      "     12  13  13  13  14  14  14  21  21  21  22  22  22  23  23  23  24\n",
      "     24  24  31  31  31  32  32  32  33  33  33  34  34  34]\n",
      "   [  8   8   8   9   9   9  10  10  10   0   0   0  18  18  18  19  19\n",
      "     19  20  20  20   0   0   0  28  28  28  29  29  29  30  30  30   0\n",
      "      0   0  38  38  38  39  39  39  40  40  40   0   0   0]]\n",
      "\n",
      "  [[ 71  71  71  72  72  72  73  73  73  74  74  74  81  81  81  82  82\n",
      "     82  83  83  83  84  84  84  91  91  91  92  92  92  93  93  93  94\n",
      "     94  94   0   0   0   0   0   0   0   0   0   0   0   0]\n",
      "   [ 78  78  78  79  79  79  80  80  80   0   0   0  88  88  88  89  89\n",
      "     89  90  90  90   0   0   0  98  98  98  99  99  99 100 100 100   0\n",
      "      0   0   0   0   0   0   0   0   0   0   0   0   0   0]]]]\n",
      "(1, 2, 2, 48)\n"
     ]
    }
   ],
   "source": [
    "interpreter.set_tensor(input_details[0]['index'], input_data)\n",
    "interpreter.invoke()\n",
    "output_data = interpreter.get_tensor(output_details[0]['index'])\n",
    "print(output_data)\n",
    "print(output_data.shape)"
   ]
  },
  {
   "cell_type": "code",
   "execution_count": 13,
   "metadata": {},
   "outputs": [
    {
     "ename": "SyntaxError",
     "evalue": "invalid syntax (<ipython-input-13-2bde2cbd7211>, line 1)",
     "output_type": "error",
     "traceback": [
      "\u001b[0;36m  File \u001b[0;32m\"<ipython-input-13-2bde2cbd7211>\"\u001b[0;36m, line \u001b[0;32m1\u001b[0m\n\u001b[0;31m    [[[[  1   1   1   2   2   2   3   3   3   4   4   4  11  11  11  12  12\u001b[0m\n\u001b[0m              ^\u001b[0m\n\u001b[0;31mSyntaxError\u001b[0m\u001b[0;31m:\u001b[0m invalid syntax\n"
     ]
    }
   ],
   "source": [
    "[[[[  1   1   1   2   2   2   3   3   3   4   4   4  11  11  11  12  12\n",
    "     12  13  13  13  14  14  14  21  21  21  22  22  22  23  23  23  24\n",
    "     24  24  31  31  31  32  32  32  33  33  33  34  34  34]\n",
    "   [  8   8   8   9   9   9  10  10  10   0   0   0  18  18  18  19  19\n",
    "     19  20  20  20   0   0   0  28  28  28  29  29  29  30  30  30   0\n",
    "      0   0  38  38  38  39  39  39  40  40  40   0   0   0]]\n",
    "\n",
    "  [[ 71  71  71  72  72  72  73  73  73  74  74  74  81  81  81  82  82\n",
    "     82  83  83  83  84  84  84  91  91  91  92  92  92  93  93  93  94\n",
    "     94  94   0   0   0   0   0   0   0   0   0   0   0   0]\n",
    "   [ 78  78  78  79  79  79  80  80  80   0   0   0  88  88  88  89  89\n",
    "     89  90  90  90   0   0   0  98  98  98  99  99  99 100 100 100   0\n",
    "      0   0   0   0   0   0   0   0   0   0   0   0   0   0]]]]\n",
    "(1, 2, 2, 48)"
   ]
  },
  {
   "cell_type": "code",
   "execution_count": null,
   "metadata": {},
   "outputs": [],
   "source": []
  }
 ],
 "metadata": {
  "kernelspec": {
   "display_name": "Python 3",
   "language": "python",
   "name": "python3"
  },
  "language_info": {
   "codemirror_mode": {
    "name": "ipython",
    "version": 3
   },
   "file_extension": ".py",
   "mimetype": "text/x-python",
   "name": "python",
   "nbconvert_exporter": "python",
   "pygments_lexer": "ipython3",
   "version": "3.6.10"
  }
 },
 "nbformat": 4,
 "nbformat_minor": 4
}
